{
 "cells": [
  {
   "cell_type": "markdown",
   "metadata": {},
   "source": [
    "# How to use `scivision`\n",
    "\n",
    "In this notebook, we will:\n",
    "\n",
    "1. Demonstrate using the scivision [Python API](https://scivision.readthedocs.io/en/latest/api.html) to load several pretrained image classification models\n",
    "2. Use the scivision catalog to find a matching dataset, which the model can be run on\n",
    "3. Run the model on the data, performing simple model inference\n",
    "4. Use the scivision catalog to find another model that can be run on the same dataset"
   ]
  },
  {
   "cell_type": "markdown",
   "metadata": {},
   "source": [
    "First let's import some things from scivision: `default_catalog` is a scivision **catalog** that will let us discover models and datasets, and `load_pretrained_model` provides a convenient way to load and run a model."
   ]
  },
  {
   "cell_type": "code",
   "execution_count": 1,
   "metadata": {},
   "outputs": [],
   "source": [
    "from scivision import default_catalog, load_pretrained_model"
   ]
  },
  {
   "cell_type": "markdown",
   "metadata": {},
   "source": [
    "## Inspecting our model in the scivision catalog\n",
    "\n",
    "A scivision catalog is a collection of **models** and **datasources**.\n",
    "\n",
    "For this example, we want to find datasources compatible with the model catalog entry \"image-classifiers\".  But first, let's use the catalog to retrive the \"image-classifiers\" repository url and take a look at the data contained in the *default catalog* (the built-in catalog, distributed as part of scivision) and see how this is structured."
   ]
  },
  {
   "cell_type": "code",
   "execution_count": 2,
   "metadata": {},
   "outputs": [
    {
     "data": {
      "text/plain": [
       "FlexibleUrl('https://github.com/alan-turing-institute/scivision_classifier', scheme='https', host='github.com', tld='com', host_type='domain', path='/alan-turing-institute/scivision_classifier')"
      ]
     },
     "execution_count": 2,
     "metadata": {},
     "output_type": "execute_result"
    }
   ],
   "source": [
    "# Get the model repo url\n",
    "models_catalog = default_catalog.models.to_dataframe()\n",
    "model_repo = models_catalog[models_catalog.name == \"image-classifiers\"].url.item()\n",
    "model_repo # Why not paste the repo link into your browser and see how it looks?"
   ]
  },
  {
   "cell_type": "code",
   "execution_count": 3,
   "metadata": {},
   "outputs": [
    {
     "data": {
      "text/html": [
       "<div>\n",
       "<style scoped>\n",
       "    .dataframe tbody tr th:only-of-type {\n",
       "        vertical-align: middle;\n",
       "    }\n",
       "\n",
       "    .dataframe tbody tr th {\n",
       "        vertical-align: top;\n",
       "    }\n",
       "\n",
       "    .dataframe thead th {\n",
       "        text-align: right;\n",
       "    }\n",
       "</style>\n",
       "<table border=\"1\" class=\"dataframe\">\n",
       "  <thead>\n",
       "    <tr style=\"text-align: right;\">\n",
       "      <th></th>\n",
       "      <th>name</th>\n",
       "      <th>description</th>\n",
       "      <th>tasks</th>\n",
       "      <th>url</th>\n",
       "      <th>pkg_url</th>\n",
       "      <th>format</th>\n",
       "      <th>pretrained</th>\n",
       "      <th>labels_required</th>\n",
       "      <th>institution</th>\n",
       "      <th>tags</th>\n",
       "    </tr>\n",
       "  </thead>\n",
       "  <tbody>\n",
       "    <tr>\n",
       "      <th>8</th>\n",
       "      <td>image-classifiers</td>\n",
       "      <td>None</td>\n",
       "      <td>(TaskEnum.classificiation,)</td>\n",
       "      <td>https://github.com/alan-turing-institute/scivi...</td>\n",
       "      <td>git+https://github.com/alan-turing-institute/s...</td>\n",
       "      <td>image</td>\n",
       "      <td>True</td>\n",
       "      <td>False</td>\n",
       "      <td>(alan-turing-institute,)</td>\n",
       "      <td>(classification, 2D, image)</td>\n",
       "    </tr>\n",
       "  </tbody>\n",
       "</table>\n",
       "</div>"
      ],
      "text/plain": [
       "                name description                        tasks  \\\n",
       "8  image-classifiers        None  (TaskEnum.classificiation,)   \n",
       "\n",
       "                                                 url  \\\n",
       "8  https://github.com/alan-turing-institute/scivi...   \n",
       "\n",
       "                                             pkg_url format  pretrained  \\\n",
       "8  git+https://github.com/alan-turing-institute/s...  image        True   \n",
       "\n",
       "   labels_required               institution                         tags  \n",
       "8            False  (alan-turing-institute,)  (classification, 2D, image)  "
      ]
     },
     "execution_count": 3,
     "metadata": {},
     "output_type": "execute_result"
    }
   ],
   "source": [
    "# Inspecting model entry and its metadata in the default catalog\n",
    "models_catalog[models_catalog.name == \"image-classifiers\"]"
   ]
  },
  {
   "cell_type": "markdown",
   "metadata": {},
   "source": [
    "## Loading the model\n",
    "\n",
    "Some model entries in the scivision catalog contain a single loadable model. Here, let's load the \"image-classifiers\" entry, which contains each of the models in the [image-classifiers](https://pypi.org/project/image-classifiers/) package. We can do this with the `load_pretrained_model` function. We'll load 2 models (`resnet18` and `densenet121`) using the `model_selection` arg (this arg is not mandatory and will have a default value for any model catalog entries that have more than one model - for model catalog entries with a single model, this need not be set):\n",
    "\n",
    "**Note: if you see an error message in the code cell below, read on!**"
   ]
  },
  {
   "cell_type": "code",
   "execution_count": 7,
   "metadata": {},
   "outputs": [
    {
     "ename": "Exception",
     "evalue": "Package does not exist. Try installing it with: \n`!pip install -e git+https://github.com/alan-turing-institute/scivision_classifier@main#egg=scivision_classifier`",
     "output_type": "error",
     "traceback": [
      "\u001b[0;31m---------------------------------------------------------------------------\u001b[0m",
      "\u001b[0;31mException\u001b[0m                                 Traceback (most recent call last)",
      "Input \u001b[0;32mIn [7]\u001b[0m, in \u001b[0;36m<cell line: 2>\u001b[0;34m()\u001b[0m\n\u001b[1;32m      1\u001b[0m \u001b[38;5;66;03m# Load the resnet model from the scivision_classifier package:\u001b[39;00m\n\u001b[0;32m----> 2\u001b[0m resnet_model \u001b[38;5;241m=\u001b[39m \u001b[43mload_pretrained_model\u001b[49m\u001b[43m(\u001b[49m\u001b[43mmodel_repo\u001b[49m\u001b[43m,\u001b[49m\u001b[43m \u001b[49m\u001b[43mmodel_selection\u001b[49m\u001b[38;5;241;43m=\u001b[39;49m\u001b[38;5;124;43m'\u001b[39;49m\u001b[38;5;124;43mresnet18\u001b[39;49m\u001b[38;5;124;43m'\u001b[39;49m\u001b[43m)\u001b[49m\n",
      "File \u001b[0;32m~/projects/scivision/scivision/koala.py:57\u001b[0m, in \u001b[0;36mkoala.<locals>.wrapped_fn\u001b[0;34m(*args, **kwargs)\u001b[0m\n\u001b[1;32m     55\u001b[0m \u001b[38;5;66;03m# now call the function, but log any exceptions\u001b[39;00m\n\u001b[1;32m     56\u001b[0m \u001b[38;5;28;01mtry\u001b[39;00m:\n\u001b[0;32m---> 57\u001b[0m     output \u001b[38;5;241m=\u001b[39m \u001b[43mfn\u001b[49m\u001b[43m(\u001b[49m\u001b[38;5;241;43m*\u001b[39;49m\u001b[43margs\u001b[49m\u001b[43m,\u001b[49m\u001b[43m \u001b[49m\u001b[38;5;241;43m*\u001b[39;49m\u001b[38;5;241;43m*\u001b[39;49m\u001b[43mkwargs\u001b[49m\u001b[43m)\u001b[49m\n\u001b[1;32m     58\u001b[0m \u001b[38;5;28;01mexcept\u001b[39;00m \u001b[38;5;167;01mException\u001b[39;00m \u001b[38;5;28;01mas\u001b[39;00m e:\n\u001b[1;32m     59\u001b[0m     logger\u001b[38;5;241m.\u001b[39merror(e)\n",
      "File \u001b[0;32m~/projects/scivision/scivision/io/reader.py:174\u001b[0m, in \u001b[0;36mload_pretrained_model\u001b[0;34m(path, branch, allow_install, model_selection, load_multiple, *args, **kwargs)\u001b[0m\n\u001b[1;32m    171\u001b[0m     \u001b[38;5;28;01massert\u001b[39;00m \u001b[38;5;124m\"\u001b[39m\u001b[38;5;124mX\u001b[39m\u001b[38;5;124m\"\u001b[39m \u001b[38;5;129;01min\u001b[39;00m config[\u001b[38;5;124m\"\u001b[39m\u001b[38;5;124mprediction_fn\u001b[39m\u001b[38;5;124m\"\u001b[39m][\u001b[38;5;124m\"\u001b[39m\u001b[38;5;124margs\u001b[39m\u001b[38;5;124m\"\u001b[39m]\u001b[38;5;241m.\u001b[39mkeys()\n\u001b[1;32m    173\u001b[0m     \u001b[38;5;66;03m# try to install the package if necessary\u001b[39;00m\n\u001b[0;32m--> 174\u001b[0m     \u001b[43minstall_package\u001b[49m\u001b[43m(\u001b[49m\u001b[43mconfig\u001b[49m\u001b[43m,\u001b[49m\u001b[43m \u001b[49m\u001b[43mallow_install\u001b[49m\u001b[38;5;241;43m=\u001b[39;49m\u001b[43mallow_install\u001b[49m\u001b[43m,\u001b[49m\u001b[43m \u001b[49m\u001b[43mbranch\u001b[49m\u001b[38;5;241;43m=\u001b[39;49m\u001b[43mbranch\u001b[49m\u001b[43m)\u001b[49m\n\u001b[1;32m    176\u001b[0m     loaded_models\u001b[38;5;241m.\u001b[39mappend(PretrainedModel(config))\n\u001b[1;32m    177\u001b[0m \u001b[38;5;28;01mif\u001b[39;00m load_multiple:\n",
      "File \u001b[0;32m~/projects/scivision/scivision/io/installer.py:53\u001b[0m, in \u001b[0;36minstall_package\u001b[0;34m(config, allow_install, branch)\u001b[0m\n\u001b[1;32m     51\u001b[0m     _install(package, pip_install_args\u001b[38;5;241m=\u001b[39m[\u001b[38;5;124m\"\u001b[39m\u001b[38;5;124m--force-reinstall\u001b[39m\u001b[38;5;124m\"\u001b[39m, \u001b[38;5;124m\"\u001b[39m\u001b[38;5;124m--no-cache-dir\u001b[39m\u001b[38;5;124m\"\u001b[39m])\n\u001b[1;32m     52\u001b[0m \u001b[38;5;28;01melif\u001b[39;00m \u001b[38;5;129;01mnot\u001b[39;00m exists:\n\u001b[0;32m---> 53\u001b[0m     \u001b[38;5;28;01mraise\u001b[39;00m \u001b[38;5;167;01mException\u001b[39;00m(\n\u001b[1;32m     54\u001b[0m         \u001b[38;5;124m\"\u001b[39m\u001b[38;5;124mPackage does not exist. Try installing it with: \u001b[39m\u001b[38;5;130;01m\\n\u001b[39;00m\u001b[38;5;124m\"\u001b[39m\n\u001b[1;32m     55\u001b[0m         \u001b[38;5;124mf\u001b[39m\u001b[38;5;124m\"\u001b[39m\u001b[38;5;124m`!pip install -e \u001b[39m\u001b[38;5;132;01m{\u001b[39;00mpackage\u001b[38;5;132;01m}\u001b[39;00m\u001b[38;5;124m`\u001b[39m\u001b[38;5;124m\"\u001b[39m\n\u001b[1;32m     56\u001b[0m     )\n",
      "\u001b[0;31mException\u001b[0m: Package does not exist. Try installing it with: \n`!pip install -e git+https://github.com/alan-turing-institute/scivision_classifier@main#egg=scivision_classifier`"
     ]
    }
   ],
   "source": [
    "# Load the resnet model from the scivision_classifier package:\n",
    "resnet_model = load_pretrained_model(model_repo, model_selection='resnet18')"
   ]
  },
  {
   "cell_type": "markdown",
   "metadata": {},
   "source": [
    "Ok, that probably didn't work the first time you ran it. Why? You need to install the python package containing the model before you can use it. Paste the suggested install code in another cell and run it. You can then delete that cell and then try restarting the Jupyter kernel and loading the resnet model again (run all the code cells above)."
   ]
  },
  {
   "cell_type": "code",
   "execution_count": 5,
   "metadata": {},
   "outputs": [
    {
     "name": "stdout",
     "output_type": "stream",
     "text": [
      "Obtaining scivision_classifier from git+https://github.com/alan-turing-institute/scivision_classifier@main#egg=scivision_classifier\n",
      "  Updating ./src/scivision-classifier clone (to revision main)\n",
      "  Running command git fetch -q --tags\n",
      "  Running command git reset --hard -q 9ae8cd11232ffd1bddcbcb0a7bbf1172028570ef\n",
      "  Preparing metadata (setup.py) ... \u001b[?25ldone\n",
      "\u001b[?25hRequirement already satisfied: numpy in /opt/anaconda3/envs/scivision/lib/python3.9/site-packages (from scivision_classifier) (1.23.3)\n",
      "Requirement already satisfied: scikit-image in /opt/anaconda3/envs/scivision/lib/python3.9/site-packages (from scivision_classifier) (0.19.3)\n",
      "Requirement already satisfied: xarray in /opt/anaconda3/envs/scivision/lib/python3.9/site-packages (from scivision_classifier) (2022.9.0)\n",
      "Requirement already satisfied: dask in /opt/anaconda3/envs/scivision/lib/python3.9/site-packages (from scivision_classifier) (2022.9.2)\n",
      "Requirement already satisfied: tensorflow in /opt/anaconda3/envs/scivision/lib/python3.9/site-packages (from scivision_classifier) (2.10.0)\n",
      "Requirement already satisfied: keras_applications>=1.0.7 in /opt/anaconda3/envs/scivision/lib/python3.9/site-packages (from scivision_classifier) (1.0.8)\n",
      "Requirement already satisfied: image-classifiers in /opt/anaconda3/envs/scivision/lib/python3.9/site-packages (from scivision_classifier) (1.0.0)\n",
      "Requirement already satisfied: h5py in /opt/anaconda3/envs/scivision/lib/python3.9/site-packages (from keras_applications>=1.0.7->scivision_classifier) (3.7.0)\n",
      "Requirement already satisfied: fsspec>=0.6.0 in /opt/anaconda3/envs/scivision/lib/python3.9/site-packages (from dask->scivision_classifier) (2022.8.2)\n",
      "Requirement already satisfied: packaging>=20.0 in /opt/anaconda3/envs/scivision/lib/python3.9/site-packages (from dask->scivision_classifier) (21.3)\n",
      "Requirement already satisfied: cloudpickle>=1.1.1 in /opt/anaconda3/envs/scivision/lib/python3.9/site-packages (from dask->scivision_classifier) (2.2.0)\n",
      "Requirement already satisfied: pyyaml>=5.3.1 in /opt/anaconda3/envs/scivision/lib/python3.9/site-packages (from dask->scivision_classifier) (6.0)\n",
      "Requirement already satisfied: partd>=0.3.10 in /opt/anaconda3/envs/scivision/lib/python3.9/site-packages (from dask->scivision_classifier) (1.3.0)\n",
      "Requirement already satisfied: toolz>=0.8.2 in /opt/anaconda3/envs/scivision/lib/python3.9/site-packages (from dask->scivision_classifier) (0.12.0)\n",
      "Requirement already satisfied: pillow!=7.1.0,!=7.1.1,!=8.3.0,>=6.1.0 in /opt/anaconda3/envs/scivision/lib/python3.9/site-packages (from scikit-image->scivision_classifier) (9.2.0)\n",
      "Requirement already satisfied: tifffile>=2019.7.26 in /opt/anaconda3/envs/scivision/lib/python3.9/site-packages (from scikit-image->scivision_classifier) (2022.8.12)\n",
      "Requirement already satisfied: PyWavelets>=1.1.1 in /opt/anaconda3/envs/scivision/lib/python3.9/site-packages (from scikit-image->scivision_classifier) (1.4.1)\n",
      "Requirement already satisfied: networkx>=2.2 in /opt/anaconda3/envs/scivision/lib/python3.9/site-packages (from scikit-image->scivision_classifier) (2.8.7)\n",
      "Requirement already satisfied: imageio>=2.4.1 in /opt/anaconda3/envs/scivision/lib/python3.9/site-packages (from scikit-image->scivision_classifier) (2.22.1)\n",
      "Requirement already satisfied: scipy>=1.4.1 in /opt/anaconda3/envs/scivision/lib/python3.9/site-packages (from scikit-image->scivision_classifier) (1.9.1)\n",
      "Requirement already satisfied: protobuf<3.20,>=3.9.2 in /opt/anaconda3/envs/scivision/lib/python3.9/site-packages (from tensorflow->scivision_classifier) (3.19.6)\n",
      "Requirement already satisfied: astunparse>=1.6.0 in /opt/anaconda3/envs/scivision/lib/python3.9/site-packages (from tensorflow->scivision_classifier) (1.6.3)\n",
      "Requirement already satisfied: gast<=0.4.0,>=0.2.1 in /opt/anaconda3/envs/scivision/lib/python3.9/site-packages (from tensorflow->scivision_classifier) (0.4.0)\n",
      "Requirement already satisfied: typing-extensions>=3.6.6 in /opt/anaconda3/envs/scivision/lib/python3.9/site-packages (from tensorflow->scivision_classifier) (4.3.0)\n",
      "Requirement already satisfied: opt-einsum>=2.3.2 in /opt/anaconda3/envs/scivision/lib/python3.9/site-packages (from tensorflow->scivision_classifier) (3.3.0)\n",
      "Requirement already satisfied: tensorboard<2.11,>=2.10 in /opt/anaconda3/envs/scivision/lib/python3.9/site-packages (from tensorflow->scivision_classifier) (2.10.1)\n",
      "Requirement already satisfied: absl-py>=1.0.0 in /opt/anaconda3/envs/scivision/lib/python3.9/site-packages (from tensorflow->scivision_classifier) (1.2.0)\n",
      "Requirement already satisfied: keras<2.11,>=2.10.0 in /opt/anaconda3/envs/scivision/lib/python3.9/site-packages (from tensorflow->scivision_classifier) (2.10.0)\n",
      "Requirement already satisfied: setuptools in /opt/anaconda3/envs/scivision/lib/python3.9/site-packages (from tensorflow->scivision_classifier) (65.4.1)\n",
      "Requirement already satisfied: six>=1.12.0 in /opt/anaconda3/envs/scivision/lib/python3.9/site-packages (from tensorflow->scivision_classifier) (1.16.0)\n",
      "Requirement already satisfied: grpcio<2.0,>=1.24.3 in /opt/anaconda3/envs/scivision/lib/python3.9/site-packages (from tensorflow->scivision_classifier) (1.49.1)\n",
      "Requirement already satisfied: flatbuffers>=2.0 in /opt/anaconda3/envs/scivision/lib/python3.9/site-packages (from tensorflow->scivision_classifier) (22.9.24)\n",
      "Requirement already satisfied: wrapt>=1.11.0 in /opt/anaconda3/envs/scivision/lib/python3.9/site-packages (from tensorflow->scivision_classifier) (1.14.1)\n",
      "Requirement already satisfied: tensorflow-estimator<2.11,>=2.10.0 in /opt/anaconda3/envs/scivision/lib/python3.9/site-packages (from tensorflow->scivision_classifier) (2.10.0)\n",
      "Requirement already satisfied: termcolor>=1.1.0 in /opt/anaconda3/envs/scivision/lib/python3.9/site-packages (from tensorflow->scivision_classifier) (2.0.1)\n",
      "Requirement already satisfied: keras-preprocessing>=1.1.1 in /opt/anaconda3/envs/scivision/lib/python3.9/site-packages (from tensorflow->scivision_classifier) (1.1.2)\n",
      "Requirement already satisfied: tensorflow-io-gcs-filesystem>=0.23.1 in /opt/anaconda3/envs/scivision/lib/python3.9/site-packages (from tensorflow->scivision_classifier) (0.27.0)\n",
      "Requirement already satisfied: google-pasta>=0.1.1 in /opt/anaconda3/envs/scivision/lib/python3.9/site-packages (from tensorflow->scivision_classifier) (0.2.0)\n",
      "Requirement already satisfied: libclang>=13.0.0 in /opt/anaconda3/envs/scivision/lib/python3.9/site-packages (from tensorflow->scivision_classifier) (14.0.6)\n",
      "Requirement already satisfied: pandas>=1.2 in /opt/anaconda3/envs/scivision/lib/python3.9/site-packages (from xarray->scivision_classifier) (1.5.0)\n",
      "Requirement already satisfied: wheel<1.0,>=0.23.0 in /opt/anaconda3/envs/scivision/lib/python3.9/site-packages (from astunparse>=1.6.0->tensorflow->scivision_classifier) (0.37.1)\n",
      "Requirement already satisfied: pyparsing!=3.0.5,>=2.0.2 in /opt/anaconda3/envs/scivision/lib/python3.9/site-packages (from packaging>=20.0->dask->scivision_classifier) (3.0.9)\n",
      "Requirement already satisfied: python-dateutil>=2.8.1 in /opt/anaconda3/envs/scivision/lib/python3.9/site-packages (from pandas>=1.2->xarray->scivision_classifier) (2.8.2)\n",
      "Requirement already satisfied: pytz>=2020.1 in /opt/anaconda3/envs/scivision/lib/python3.9/site-packages (from pandas>=1.2->xarray->scivision_classifier) (2022.4)\n",
      "Requirement already satisfied: locket in /opt/anaconda3/envs/scivision/lib/python3.9/site-packages (from partd>=0.3.10->dask->scivision_classifier) (1.0.0)\n",
      "Requirement already satisfied: tensorboard-plugin-wit>=1.6.0 in /opt/anaconda3/envs/scivision/lib/python3.9/site-packages (from tensorboard<2.11,>=2.10->tensorflow->scivision_classifier) (1.8.1)\n",
      "Requirement already satisfied: google-auth-oauthlib<0.5,>=0.4.1 in /opt/anaconda3/envs/scivision/lib/python3.9/site-packages (from tensorboard<2.11,>=2.10->tensorflow->scivision_classifier) (0.4.6)\n",
      "Requirement already satisfied: werkzeug>=1.0.1 in /opt/anaconda3/envs/scivision/lib/python3.9/site-packages (from tensorboard<2.11,>=2.10->tensorflow->scivision_classifier) (2.2.2)\n",
      "Requirement already satisfied: requests<3,>=2.21.0 in /opt/anaconda3/envs/scivision/lib/python3.9/site-packages (from tensorboard<2.11,>=2.10->tensorflow->scivision_classifier) (2.28.1)\n",
      "Requirement already satisfied: tensorboard-data-server<0.7.0,>=0.6.0 in /opt/anaconda3/envs/scivision/lib/python3.9/site-packages (from tensorboard<2.11,>=2.10->tensorflow->scivision_classifier) (0.6.1)\n",
      "Requirement already satisfied: markdown>=2.6.8 in /opt/anaconda3/envs/scivision/lib/python3.9/site-packages (from tensorboard<2.11,>=2.10->tensorflow->scivision_classifier) (3.4.1)\n",
      "Requirement already satisfied: google-auth<3,>=1.6.3 in /opt/anaconda3/envs/scivision/lib/python3.9/site-packages (from tensorboard<2.11,>=2.10->tensorflow->scivision_classifier) (2.12.0)\n",
      "Requirement already satisfied: pyasn1-modules>=0.2.1 in /opt/anaconda3/envs/scivision/lib/python3.9/site-packages (from google-auth<3,>=1.6.3->tensorboard<2.11,>=2.10->tensorflow->scivision_classifier) (0.2.8)\n",
      "Requirement already satisfied: rsa<5,>=3.1.4 in /opt/anaconda3/envs/scivision/lib/python3.9/site-packages (from google-auth<3,>=1.6.3->tensorboard<2.11,>=2.10->tensorflow->scivision_classifier) (4.9)\n",
      "Requirement already satisfied: cachetools<6.0,>=2.0.0 in /opt/anaconda3/envs/scivision/lib/python3.9/site-packages (from google-auth<3,>=1.6.3->tensorboard<2.11,>=2.10->tensorflow->scivision_classifier) (5.2.0)\n",
      "Requirement already satisfied: requests-oauthlib>=0.7.0 in /opt/anaconda3/envs/scivision/lib/python3.9/site-packages (from google-auth-oauthlib<0.5,>=0.4.1->tensorboard<2.11,>=2.10->tensorflow->scivision_classifier) (1.3.1)\n",
      "Requirement already satisfied: importlib-metadata>=4.4 in /opt/anaconda3/envs/scivision/lib/python3.9/site-packages (from markdown>=2.6.8->tensorboard<2.11,>=2.10->tensorflow->scivision_classifier) (5.0.0)\n",
      "Requirement already satisfied: certifi>=2017.4.17 in /opt/anaconda3/envs/scivision/lib/python3.9/site-packages (from requests<3,>=2.21.0->tensorboard<2.11,>=2.10->tensorflow->scivision_classifier) (2022.9.24)\n",
      "Requirement already satisfied: urllib3<1.27,>=1.21.1 in /opt/anaconda3/envs/scivision/lib/python3.9/site-packages (from requests<3,>=2.21.0->tensorboard<2.11,>=2.10->tensorflow->scivision_classifier) (1.26.12)\n",
      "Requirement already satisfied: charset-normalizer<3,>=2 in /opt/anaconda3/envs/scivision/lib/python3.9/site-packages (from requests<3,>=2.21.0->tensorboard<2.11,>=2.10->tensorflow->scivision_classifier) (2.1.1)\n",
      "Requirement already satisfied: idna<4,>=2.5 in /opt/anaconda3/envs/scivision/lib/python3.9/site-packages (from requests<3,>=2.21.0->tensorboard<2.11,>=2.10->tensorflow->scivision_classifier) (3.4)\n",
      "Requirement already satisfied: MarkupSafe>=2.1.1 in /opt/anaconda3/envs/scivision/lib/python3.9/site-packages (from werkzeug>=1.0.1->tensorboard<2.11,>=2.10->tensorflow->scivision_classifier) (2.1.1)\n",
      "Requirement already satisfied: zipp>=0.5 in /opt/anaconda3/envs/scivision/lib/python3.9/site-packages (from importlib-metadata>=4.4->markdown>=2.6.8->tensorboard<2.11,>=2.10->tensorflow->scivision_classifier) (3.8.1)\n",
      "Requirement already satisfied: pyasn1<0.5.0,>=0.4.6 in /opt/anaconda3/envs/scivision/lib/python3.9/site-packages (from pyasn1-modules>=0.2.1->google-auth<3,>=1.6.3->tensorboard<2.11,>=2.10->tensorflow->scivision_classifier) (0.4.8)\n",
      "Requirement already satisfied: oauthlib>=3.0.0 in /opt/anaconda3/envs/scivision/lib/python3.9/site-packages (from requests-oauthlib>=0.7.0->google-auth-oauthlib<0.5,>=0.4.1->tensorboard<2.11,>=2.10->tensorflow->scivision_classifier) (3.2.1)\n",
      "Installing collected packages: scivision_classifier\n",
      "  Running setup.py develop for scivision_classifier\n",
      "Successfully installed scivision_classifier-0.0.1\n"
     ]
    }
   ],
   "source": [
    "!pip install -e git+https://github.com/alan-turing-institute/scivision_classifier@main#egg=scivision_classifier"
   ]
  },
  {
   "cell_type": "code",
   "execution_count": null,
   "metadata": {},
   "outputs": [],
   "source": [
    "# Now load the densenet model from the scivision_classifier package:\n",
    "densenet_model = load_pretrained_model(model_repo, model_selection='densenet121')"
   ]
  },
  {
   "cell_type": "code",
   "execution_count": null,
   "metadata": {
    "pycharm": {
     "name": "#%%\n"
    }
   },
   "outputs": [],
   "source": [
    "# let's explore one of the model objects\n",
    "resnet_model"
   ]
  },
  {
   "cell_type": "markdown",
   "metadata": {},
   "source": [
    "Later, we'll use these models to make predictions on image data found in the scivision catalog."
   ]
  },
  {
   "cell_type": "markdown",
   "metadata": {},
   "source": [
    "## Query the default scivision data catalog"
   ]
  },
  {
   "cell_type": "markdown",
   "metadata": {},
   "source": [
    "Now let's use the `default_catalog` to identify datasources in the catalog that are compatible with our models (based on `tasks`, `format` and `labels_provided`/`labels_required`)."
   ]
  },
  {
   "cell_type": "code",
   "execution_count": null,
   "metadata": {},
   "outputs": [],
   "source": [
    "compatible_datasources = default_catalog.compatible_datasources(\"image-classifiers\").to_dataframe()\n",
    "compatible_datasources"
   ]
  },
  {
   "cell_type": "markdown",
   "metadata": {},
   "source": [
    "Let's use `data-003`, an image dataset containing a single image of a Koala."
   ]
  },
  {
   "cell_type": "code",
   "execution_count": null,
   "metadata": {
    "pycharm": {
     "name": "#%%\n"
    }
   },
   "outputs": [],
   "source": [
    "target_datasource = compatible_datasources.loc[compatible_datasources['name'] == 'data-003']\n",
    "target_datasource"
   ]
  },
  {
   "cell_type": "markdown",
   "metadata": {},
   "source": [
    "## Load the dataset\n",
    "\n",
    "Now let's load the dataset using the scivision python API, specifically the [load_dataset](https://scivision.readthedocs.io/en/latest/api.html#scivision.io.reader.load_dataset) function, which takes as input the url of the data repository (structured as per [this template](https://scivision.readthedocs.io/en/latest/data_repository_template.html)), which we can get from the target datasource:"
   ]
  },
  {
   "cell_type": "code",
   "execution_count": null,
   "metadata": {},
   "outputs": [],
   "source": [
    "from scivision import load_dataset"
   ]
  },
  {
   "cell_type": "code",
   "execution_count": null,
   "metadata": {},
   "outputs": [],
   "source": [
    "data_url = target_datasource['url'].item()"
   ]
  },
  {
   "cell_type": "markdown",
   "metadata": {},
   "source": [
    "The returned data config object of the`load_dataset` function is an \"intake catalog\". You can read our [documentation](https://scivision.readthedocs.io/en/latest/data_repository_template.html#data-config-file) to understand this better, but for now, let's inspect this config:"
   ]
  },
  {
   "cell_type": "code",
   "execution_count": null,
   "metadata": {},
   "outputs": [],
   "source": [
    "data_config = load_dataset(data_url)\n",
    "data_config"
   ]
  },
  {
   "cell_type": "code",
   "execution_count": null,
   "metadata": {},
   "outputs": [],
   "source": [
    "list(data_config)"
   ]
  },
  {
   "cell_type": "markdown",
   "metadata": {},
   "source": [
    "Clicking the `path` link to the location of this data config file online (in the dataset repo) reveals that there is one data source called `test_image`, and that the `intake_xarray.image.ImageSource` \"intake driver\" is being used. We can retrive the test image data in an image format which the model will accept, like so:"
   ]
  },
  {
   "cell_type": "code",
   "execution_count": null,
   "metadata": {},
   "outputs": [],
   "source": [
    "data_config['test_image']()"
   ]
  },
  {
   "cell_type": "code",
   "execution_count": null,
   "metadata": {},
   "outputs": [],
   "source": [
    "test_image = data_config.test_image().to_dask() # The xarray.DataArray is one format accepted by the our models\n",
    "test_image"
   ]
  },
  {
   "cell_type": "markdown",
   "metadata": {},
   "source": [
    "Let's take a look at the image with `matplotlib`:"
   ]
  },
  {
   "cell_type": "code",
   "execution_count": null,
   "metadata": {},
   "outputs": [],
   "source": [
    "import matplotlib.pyplot as plt"
   ]
  },
  {
   "cell_type": "code",
   "execution_count": null,
   "metadata": {},
   "outputs": [],
   "source": [
    "plt.imshow(test_image)"
   ]
  },
  {
   "cell_type": "markdown",
   "metadata": {},
   "source": [
    "## Model predictions\n",
    "\n",
    "Now let's use the loaded model on the test image data we found in the via catalog."
   ]
  },
  {
   "cell_type": "code",
   "execution_count": null,
   "metadata": {},
   "outputs": [],
   "source": [
    "resnet_model.predict(test_image)"
   ]
  },
  {
   "cell_type": "code",
   "execution_count": null,
   "metadata": {},
   "outputs": [],
   "source": [
    "densenet_model.predict(test_image)"
   ]
  },
  {
   "cell_type": "markdown",
   "metadata": {},
   "source": [
    "As you can see, the models have given predictions for the test image, with a confidence score. Check out the code in the [model repo](https://github.com/alan-turing-institute/scivision_classifier) to see how this was determined!"
   ]
  },
  {
   "cell_type": "markdown",
   "metadata": {},
   "source": [
    "## Query the default scivision model catalog\n",
    "\n",
    "Using our test Koala image dataset, let's search the scivision default catalog for other models that can be used with it:"
   ]
  },
  {
   "cell_type": "code",
   "execution_count": null,
   "metadata": {},
   "outputs": [],
   "source": [
    "compatible_models = default_catalog.compatible_models(\"data-003\").to_dataframe()\n",
    "compatible_models"
   ]
  },
  {
   "cell_type": "markdown",
   "metadata": {},
   "source": [
    "The `huggingface-classifiers` catalog entry can be used to load some of the most popular image classification models from [Hugging Face](https://huggingface.co/models?pipeline_tag=image-classification&sort=downloads). See the list of included models in the [model repo](https://github.com/alan-turing-institute/scivision_huggingface). As before, let's load one of the named models and run it on our test image:"
   ]
  },
  {
   "cell_type": "code",
   "execution_count": null,
   "metadata": {},
   "outputs": [],
   "source": [
    "huggingface_repo = models_catalog[models_catalog.name == \"huggingface-classifiers\"].url.item()\n",
    "microsoft_model = load_pretrained_model(huggingface_repo, model_selection='microsoft_swin_tiny_patch4_window7_224', allow_install=True)"
   ]
  },
  {
   "cell_type": "code",
   "execution_count": null,
   "metadata": {},
   "outputs": [],
   "source": [
    "microsoft_model.predict(test_image)"
   ]
  }
 ],
 "metadata": {
  "kernelspec": {
   "display_name": "Python 3 (ipykernel)",
   "language": "python",
   "name": "python3"
  },
  "language_info": {
   "codemirror_mode": {
    "name": "ipython",
    "version": 3
   },
   "file_extension": ".py",
   "mimetype": "text/x-python",
   "name": "python",
   "nbconvert_exporter": "python",
   "pygments_lexer": "ipython3",
   "version": "3.9.12"
  }
 },
 "nbformat": 4,
 "nbformat_minor": 4
}
